{
 "cells": [
  {
   "cell_type": "code",
   "execution_count": 1,
   "id": "0a6fe0ea",
   "metadata": {},
   "outputs": [],
   "source": [
    "import pandas as pd\n",
    "import os\n",
    "import statistics"
   ]
  },
  {
   "cell_type": "code",
   "execution_count": 12,
   "id": "04273e84",
   "metadata": {},
   "outputs": [
    {
     "data": {
      "text/plain": [
       "['Defect_Mylyn_res_r10_rn103.csv',\n",
       " 'Defect_Mylyn_res_r1_rn437.csv',\n",
       " 'Defect_Mylyn_res_r2_rn66.csv',\n",
       " 'Defect_Mylyn_res_r3_rn227.csv',\n",
       " 'Defect_Mylyn_res_r4_rn89.csv',\n",
       " 'Defect_Mylyn_res_r5_rn126.csv',\n",
       " 'Defect_Mylyn_res_r6_rn238.csv',\n",
       " 'Defect_Mylyn_res_r7_rn220.csv',\n",
       " 'Defect_Mylyn_res_r8_rn135.csv',\n",
       " 'Defect_Mylyn_res_r9_rn248.csv']"
      ]
     },
     "execution_count": 12,
     "metadata": {},
     "output_type": "execute_result"
    }
   ],
   "source": [
    "result_path = f\"{os.path.dirname(os.getcwd())}/result/Defect_Mylyn\"\n",
    "result_files = [f for f in os.listdir(result_path) if f.endswith(\"csv\")]\n",
    "result_files"
   ]
  },
  {
   "cell_type": "code",
   "execution_count": 27,
   "id": "9577b8b7",
   "metadata": {},
   "outputs": [],
   "source": [
    "recall = {}\n",
    "fpr = {}\n",
    "AUC = {}\n",
    "F_score = {}\n",
    "G_score = {}\n",
    "\n",
    "for f in result_files:\n",
    "    df = pd.read_csv(f\"{os.path.dirname(os.getcwd())}/result/Defect_Mylyn/{f}\")\n",
    "    \n",
    "    for _, row in df.iterrows():\n",
    "        learner = row['learner']\n",
    "        oversampling = row['oversampling_scheme']\n",
    "        \n",
    "        if learner not in recall:\n",
    "            recall[learner] = {}\n",
    "            \n",
    "        if learner not in fpr:\n",
    "            fpr[learner] = {}\n",
    "        \n",
    "        if learner not in AUC:\n",
    "            AUC[learner] = {}\n",
    "            \n",
    "        if learner not in F_score:\n",
    "            F_score[learner] = {}\n",
    "            \n",
    "        if learner not in G_score:\n",
    "            G_score[learner] = {}\n",
    "        \n",
    "        if oversampling not in recall[learner]:\n",
    "            recall[learner][oversampling] = []\n",
    "            \n",
    "        if oversampling not in fpr[learner]:\n",
    "            fpr[learner][oversampling] = []\n",
    "        \n",
    "        if oversampling not in AUC[learner]:\n",
    "            AUC[learner][oversampling] = []\n",
    "            \n",
    "        if oversampling not in F_score[learner]:\n",
    "            F_score[learner][oversampling] = []\n",
    "            \n",
    "        if oversampling not in G_score[learner]:\n",
    "            G_score[learner][oversampling] = []\n",
    "        \n",
    "        recall[learner][oversampling].append(row['recall'])\n",
    "        fpr[learner][oversampling].append(row['fpr'])\n",
    "        AUC[learner][oversampling].append(row['auc'])\n",
    "        F_score[learner][oversampling].append(row['f1'])\n",
    "        G_score[learner][oversampling].append(row['g_score'])"
   ]
  },
  {
   "cell_type": "code",
   "execution_count": 28,
   "id": "94a99dfd",
   "metadata": {},
   "outputs": [],
   "source": [
    "for key in recall.keys():\n",
    "    with open(f\"{os.path.dirname(os.getcwd())}/evaluation/Defect_Mylyn/recall_{key}.txt\", \"w\") as f:\n",
    "        for subkey in recall[key]:\n",
    "            f.write(subkey)\n",
    "            f.write('\\n')\n",
    "            f.write(\"    \".join([str(item) for item in recall[key][subkey]]))\n",
    "            f.write('\\n')\n",
    "            f.write('\\n')"
   ]
  },
  {
   "cell_type": "code",
   "execution_count": 29,
   "id": "6139d040",
   "metadata": {},
   "outputs": [],
   "source": [
    "for key in fpr.keys():\n",
    "    with open(f\"{os.path.dirname(os.getcwd())}/evaluation/Defect_Mylyn/fpr_{key}.txt\", \"w\") as f:\n",
    "        for subkey in fpr[key]:\n",
    "            f.write(subkey)\n",
    "            f.write('\\n')\n",
    "            f.write(\"    \".join([str(item) for item in fpr[key][subkey]]))\n",
    "            f.write('\\n')\n",
    "            f.write('\\n')"
   ]
  },
  {
   "cell_type": "code",
   "execution_count": 30,
   "id": "22a77a2c",
   "metadata": {},
   "outputs": [],
   "source": [
    "for key in AUC.keys():\n",
    "    with open(f\"{os.path.dirname(os.getcwd())}/evaluation/Defect_Mylyn/auc_{key}.txt\", \"w\") as f:\n",
    "        for subkey in AUC[key]:\n",
    "            f.write(subkey)\n",
    "            f.write('\\n')\n",
    "            f.write(\"    \".join([str(item) for item in AUC[key][subkey]]))\n",
    "            f.write('\\n')\n",
    "            f.write('\\n')"
   ]
  },
  {
   "cell_type": "code",
   "execution_count": 31,
   "id": "27c90f5a",
   "metadata": {},
   "outputs": [],
   "source": [
    "for key in F_score.keys():\n",
    "    with open(f\"{os.path.dirname(os.getcwd())}/evaluation/Defect_Mylyn/f1_{key}.txt\", \"w\") as f:\n",
    "        for subkey in F_score[key]:\n",
    "            f.write(subkey)\n",
    "            f.write('\\n')\n",
    "            f.write(\"    \".join([str(item) for item in F_score[key][subkey]]))\n",
    "            f.write('\\n')\n",
    "            f.write('\\n')"
   ]
  },
  {
   "cell_type": "code",
   "execution_count": 32,
   "id": "b1c6c430",
   "metadata": {},
   "outputs": [],
   "source": [
    "for key in G_score.keys():\n",
    "    with open(f\"{os.path.dirname(os.getcwd())}/evaluation/Defect_Mylyn/gscore_{key}.txt\", \"w\") as f:\n",
    "        for subkey in G_score[key]:\n",
    "            f.write(subkey)\n",
    "            f.write('\\n')\n",
    "            f.write(\"    \".join([str(item) for item in G_score[key][subkey]]))\n",
    "            f.write('\\n')\n",
    "            f.write('\\n')"
   ]
  },
  {
   "cell_type": "code",
   "execution_count": 13,
   "id": "aa05b39d",
   "metadata": {},
   "outputs": [
    {
     "data": {
      "text/plain": [
       "{'No': 0.0,\n",
       " 'Random': 0.01,\n",
       " 'ADASYN': 0.023,\n",
       " 'BorderlineSMOTE': 0.027,\n",
       " 'SMOTE': 0.017,\n",
       " 'SVMSMOTE': 0.058,\n",
       " 'SMOTUNED': 261.831,\n",
       " 'DAZZLE': 877.062,\n",
       " 'WGAN': 52.528999999999996,\n",
       " 'RP': 0.9530915975570678,\n",
       " 'Diveplane1': 54.056854891777036,\n",
       " 'Diveplane2': 50.18827831745148,\n",
       " 'DS': 0.3227232456207275,\n",
       " 'SDV_FASTML': 0.6362247228622436,\n",
       " 'SDV_GC': 4.436367034912109,\n",
       " 'SDV_GAN': 28.315824103355407,\n",
       " 'DAZZLE1': 667.495952630043,\n",
       " 'DAZZLE2': 503.73598403930663}"
      ]
     },
     "execution_count": 13,
     "metadata": {},
     "output_type": "execute_result"
    }
   ],
   "source": [
    "runtime = {}\n",
    "for f in result_files:\n",
    "    df = pd.read_csv(f\"{os.path.dirname(os.getcwd())}/result/Defect_Mylyn/{f}\")\n",
    "    for _, row in df.iterrows():\n",
    "        oversampling = row['oversampling_scheme']\n",
    "        \n",
    "        if oversampling not in runtime:\n",
    "            runtime[oversampling] = []\n",
    "        \n",
    "        runtime[oversampling].append(row['runtime'])\n",
    "\n",
    "for key in runtime.keys():\n",
    "    runtime[key] = statistics.mean(runtime[key])\n",
    "\n",
    "runtime"
   ]
  },
  {
   "cell_type": "code",
   "execution_count": null,
   "id": "c0d77e84",
   "metadata": {},
   "outputs": [],
   "source": []
  }
 ],
 "metadata": {
  "kernelspec": {
   "display_name": "Python 3 (ipykernel)",
   "language": "python",
   "name": "python3"
  },
  "language_info": {
   "codemirror_mode": {
    "name": "ipython",
    "version": 3
   },
   "file_extension": ".py",
   "mimetype": "text/x-python",
   "name": "python",
   "nbconvert_exporter": "python",
   "pygments_lexer": "ipython3",
   "version": "3.8.15"
  }
 },
 "nbformat": 4,
 "nbformat_minor": 5
}
