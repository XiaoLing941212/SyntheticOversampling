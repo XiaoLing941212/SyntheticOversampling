{
 "cells": [
  {
   "cell_type": "code",
   "execution_count": 20,
   "id": "8ee272f9",
   "metadata": {},
   "outputs": [],
   "source": [
    "import pandas as pd\n",
    "import csv\n",
    "import os\n",
    "import sys\n",
    "import csv\n",
    "\n",
    "from sklearn.ensemble import RandomForestClassifier\n",
    "from sklearn.linear_model import LogisticRegression\n",
    "from sklearn.neighbors import KNeighborsClassifier\n",
    "from sklearn.ensemble import AdaBoostClassifier\n",
    "from sklearn.ensemble import GradientBoostingClassifier\n",
    "from sklearn.svm import SVC\n",
    "from sklearn.tree import DecisionTreeClassifier\n",
    "from lightgbm import LGBMClassifier\n",
    "from sklearn.model_selection import train_test_split\n",
    "\n",
    "sys.path.insert(0, f\"{os.path.dirname(os.getcwd())}/src\")\n",
    "from utils import evaluate_result\n",
    "from data_imbalance_src.smote_oversampling import RandomOversampling, ADASYNOversampling, BorderlineSMOTEOversampling, SMOTEOversampling, SVMSMOTEOversampling\n",
    "from data_imbalance_src.smote_oversampling import SMOTUNEDOversampling"
   ]
  },
  {
   "cell_type": "markdown",
   "id": "b0325809",
   "metadata": {},
   "source": [
    "# JavaScript_Vulnerability"
   ]
  },
  {
   "cell_type": "code",
   "execution_count": 2,
   "id": "37e89cbe",
   "metadata": {},
   "outputs": [],
   "source": [
    "write_path = f\"{os.path.dirname(os.getcwd())}/result/JS_Vuln_res.csv\"\n",
    "with open(write_path, \"w\", newline=\"\") as f:\n",
    "    csv_writer = csv.writer(f)\n",
    "    csv_writer.writerow([\"oversampling_scheme\", \"runtime\", \"learner\", \"acc\", \"prec\", \"recall\", \"fpr\", \"f1\", \"auc\", \"g_score\", \"d2h\"])"
   ]
  },
  {
   "cell_type": "code",
   "execution_count": 3,
   "id": "35dfd4ed",
   "metadata": {},
   "outputs": [
    {
     "data": {
      "text/plain": [
       "['JSVulnerabilityDataSet-1.0.csv']"
      ]
     },
     "execution_count": 3,
     "metadata": {},
     "output_type": "execute_result"
    }
   ],
   "source": [
    "data_path = f\"{os.path.dirname(os.getcwd())}/data/JavaScript_Vulnerability/\"\n",
    "datafiles = [f for f in os.listdir(data_path) if f.endswith(\"csv\")]\n",
    "datafiles"
   ]
  },
  {
   "cell_type": "code",
   "execution_count": 4,
   "id": "3cbf2fa2",
   "metadata": {},
   "outputs": [],
   "source": [
    "df = pd.read_csv(f\"{data_path}/{datafiles[0]}\")\n",
    "drop_columns = [\"name\", \"longname\", \"path\", \"full_repo_path\", \"line\", \"column\", \"endline\", \"endcolumn\"]\n",
    "df = df.drop(drop_columns, axis=1)\n",
    "df = df.drop_duplicates()"
   ]
  },
  {
   "cell_type": "code",
   "execution_count": 5,
   "id": "16c2a51d",
   "metadata": {},
   "outputs": [
    {
     "name": "stdout",
     "output_type": "stream",
     "text": [
      "y value counts: \n",
      " 0    5367\n",
      "1     904\n",
      "Name: Vuln, dtype: int64\n",
      "y class ratio: 1: 6\n"
     ]
    }
   ],
   "source": [
    "X = df.iloc[:, :-1]\n",
    "y = df.iloc[:, -1]\n",
    "print(\"y value counts: \\n\", str(y.value_counts()))\n",
    "print(\"y class ratio: 1:\", str(round(y.value_counts()[0]/y.value_counts()[1])))"
   ]
  },
  {
   "cell_type": "code",
   "execution_count": 6,
   "id": "7033d437",
   "metadata": {},
   "outputs": [
    {
     "name": "stdout",
     "output_type": "stream",
     "text": [
      "--- y train classes count: \n",
      "0    4293\n",
      "1     723\n",
      "Name: Vuln, dtype: int64\n",
      "--- y train ratio: 1:6\n",
      " \n",
      "--- y test classes count: \n",
      "0    1074\n",
      "1     181\n",
      "Name: Vuln, dtype: int64\n",
      "--- y test ratio: 1:6\n"
     ]
    }
   ],
   "source": [
    "X_train, X_test, y_train, y_test = train_test_split(X, y, test_size=0.2, stratify=y, random_state=42)\n",
    "print(\"--- y train classes count: \\n\" + str(y_train.value_counts()))\n",
    "print(\"--- y train ratio: 1:\" + str(round(y_train.value_counts()[0] / y_train.value_counts()[1])))\n",
    "print(\" \")\n",
    "print(\"--- y test classes count: \\n\" + str(y_test.value_counts()))\n",
    "print(\"--- y test ratio: 1:\" + str(round(y_test.value_counts()[0] / y_test.value_counts()[1])))"
   ]
  },
  {
   "cell_type": "markdown",
   "id": "1b066efe",
   "metadata": {},
   "source": [
    "### Normal Run"
   ]
  },
  {
   "cell_type": "code",
   "execution_count": 7,
   "id": "e595ab5b",
   "metadata": {},
   "outputs": [],
   "source": [
    "# normal run - without any oversampling technique\n",
    "# inputs: X_train, y_train, X_test, y_test\n",
    "\n",
    "# create models\n",
    "clf_SVM = SVC()\n",
    "clf_KNN = KNeighborsClassifier(n_neighbors=3, n_jobs=-1)\n",
    "clf_LR = LogisticRegression(random_state=42, solver=\"saga\", max_iter=20000, n_jobs=-1)\n",
    "clf_DT = DecisionTreeClassifier()\n",
    "clf_RF = RandomForestClassifier(random_state=42, n_jobs=-1)\n",
    "clf_LightGBM = LGBMClassifier(objective=\"binary\", random_state=42, n_jobs=-1)\n",
    "clf_Adaboost = AdaBoostClassifier(n_estimators=100, random_state=42)\n",
    "clf_GBDT = GradientBoostingClassifier(n_estimators=100, learning_rate=1.0, random_state=42)\n",
    "\n",
    "clf_SVM.fit(X_train, y_train)\n",
    "clf_KNN.fit(X_train, y_train)\n",
    "clf_LR.fit(X_train, y_train)\n",
    "clf_DT.fit(X_train, y_train)\n",
    "clf_RF.fit(X_train, y_train)\n",
    "clf_LightGBM.fit(X_train, y_train)\n",
    "clf_Adaboost.fit(X_train, y_train)\n",
    "clf_GBDT.fit(X_train, y_train)\n",
    "\n",
    "y_pred_SVM = clf_SVM.predict(X_test)\n",
    "y_pred_KNN = clf_KNN.predict(X_test)\n",
    "y_pred_LR = clf_LR.predict(X_test)\n",
    "y_pred_DT = clf_DT.predict(X_test)\n",
    "y_pred_RF = clf_RF.predict(X_test)\n",
    "y_pred_LightGBM = clf_LightGBM.predict(X_test)\n",
    "y_pred_Adaboost = clf_Adaboost.predict(X_test)\n",
    "y_pred_GBDT = clf_GBDT.predict(X_test)"
   ]
  },
  {
   "cell_type": "code",
   "execution_count": 8,
   "id": "bd3a7b33",
   "metadata": {},
   "outputs": [],
   "source": [
    "with open(f\"{os.path.dirname(os.getcwd())}/result/JS_Vuln_res.csv\", \"a\", newline=\"\") as f:\n",
    "    csv_writer = csv.writer(f)\n",
    "    \n",
    "    csv_writer.writerow([\"No\", 0, \"SVM\"] + evaluate_result(y_pred_SVM, y_test))\n",
    "    csv_writer.writerow([\"No\", 0, \"KNN\"] + evaluate_result(y_pred_KNN, y_test))\n",
    "    csv_writer.writerow([\"No\", 0, \"LR\"] + evaluate_result(y_pred_LR, y_test))\n",
    "    csv_writer.writerow([\"No\", 0, \"DT\"] + evaluate_result(y_pred_DT, y_test))\n",
    "    csv_writer.writerow([\"No\", 0, \"RF\"] + evaluate_result(y_pred_RF, y_test))\n",
    "    csv_writer.writerow([\"No\", 0, \"LightGBM\"] + evaluate_result(y_pred_LightGBM, y_test))\n",
    "    csv_writer.writerow([\"No\", 0, \"Adaboost\"] + evaluate_result(y_pred_Adaboost, y_test))\n",
    "    csv_writer.writerow([\"No\", 0, \"GBDT\"] + evaluate_result(y_pred_GBDT, y_test))"
   ]
  },
  {
   "cell_type": "markdown",
   "id": "46979f07",
   "metadata": {},
   "source": [
    "### Random Oversampling"
   ]
  },
  {
   "cell_type": "code",
   "execution_count": 10,
   "id": "f42f7741",
   "metadata": {},
   "outputs": [
    {
     "name": "stdout",
     "output_type": "stream",
     "text": [
      "y train ratio: 1:1\n"
     ]
    }
   ],
   "source": [
    "# random oversampling run - random oversampling technique\n",
    "# inputs: X_train_random, y_train_random, X_test, y_test\n",
    "\n",
    "rt, X_train_new, y_train_new = RandomOversampling(X_train=X_train, y_train=y_train)\n",
    "\n",
    "print(\"y train ratio: 1:\" + str(round(y_train_new.value_counts()[0] / y_train_new.value_counts()[1])))\n",
    "\n",
    "# create models\n",
    "clf_SVM = SVC()\n",
    "clf_KNN = KNeighborsClassifier(n_neighbors=3, n_jobs=-1)\n",
    "clf_LR = LogisticRegression(random_state=42, solver=\"saga\", max_iter=20000, n_jobs=-1)\n",
    "clf_DT = DecisionTreeClassifier()\n",
    "clf_RF = RandomForestClassifier(random_state=42, n_jobs=-1)\n",
    "clf_LightGBM = LGBMClassifier(objective=\"binary\", random_state=42, n_jobs=-1)\n",
    "clf_Adaboost = AdaBoostClassifier(n_estimators=100, random_state=42)\n",
    "clf_GBDT = GradientBoostingClassifier(n_estimators=100, learning_rate=1.0, random_state=42)\n",
    "\n",
    "clf_SVM.fit(X_train_new, y_train_new)\n",
    "clf_KNN.fit(X_train_new, y_train_new)\n",
    "clf_LR.fit(X_train_new, y_train_new)\n",
    "clf_DT.fit(X_train_new, y_train_new)\n",
    "clf_RF.fit(X_train_new, y_train_new)\n",
    "clf_LightGBM.fit(X_train_new, y_train_new)\n",
    "clf_Adaboost.fit(X_train_new, y_train_new)\n",
    "clf_GBDT.fit(X_train_new, y_train_new)\n",
    "\n",
    "y_pred_SVM = clf_SVM.predict(X_test)\n",
    "y_pred_KNN = clf_KNN.predict(X_test)\n",
    "y_pred_LR = clf_LR.predict(X_test)\n",
    "y_pred_DT = clf_DT.predict(X_test)\n",
    "y_pred_RF = clf_RF.predict(X_test)\n",
    "y_pred_LightGBM = clf_LightGBM.predict(X_test)\n",
    "y_pred_Adaboost = clf_Adaboost.predict(X_test)\n",
    "y_pred_GBDT = clf_GBDT.predict(X_test)"
   ]
  },
  {
   "cell_type": "code",
   "execution_count": 11,
   "id": "cfcfffcf",
   "metadata": {},
   "outputs": [],
   "source": [
    "with open(f\"{os.path.dirname(os.getcwd())}/result/JS_Vuln_res.csv\", \"a\", newline=\"\") as f:\n",
    "    csv_writer = csv.writer(f)\n",
    "    \n",
    "    csv_writer.writerow([\"Random\", rt, \"SVM\"] + evaluate_result(y_pred_SVM, y_test))\n",
    "    csv_writer.writerow([\"Random\", rt, \"KNN\"] + evaluate_result(y_pred_KNN, y_test))\n",
    "    csv_writer.writerow([\"Random\", rt, \"LR\"] + evaluate_result(y_pred_LR, y_test))\n",
    "    csv_writer.writerow([\"Random\", rt, \"DT\"] + evaluate_result(y_pred_DT, y_test))\n",
    "    csv_writer.writerow([\"Random\", rt, \"RF\"] + evaluate_result(y_pred_RF, y_test))\n",
    "    csv_writer.writerow([\"Random\", rt, \"LightGBM\"] + evaluate_result(y_pred_LightGBM, y_test))\n",
    "    csv_writer.writerow([\"Random\", rt, \"Adaboost\"] + evaluate_result(y_pred_Adaboost, y_test))\n",
    "    csv_writer.writerow([\"Random\", rt, \"GBDT\"] + evaluate_result(y_pred_GBDT, y_test))"
   ]
  },
  {
   "cell_type": "markdown",
   "id": "ad6cf680",
   "metadata": {},
   "source": [
    "### ADASYN Oversampling"
   ]
  },
  {
   "cell_type": "code",
   "execution_count": 12,
   "id": "98bf7bd3",
   "metadata": {},
   "outputs": [
    {
     "name": "stdout",
     "output_type": "stream",
     "text": [
      "y train ratio: 1:1\n"
     ]
    }
   ],
   "source": [
    "# ADASYN oversampling run - ADASYN oversampling technique\n",
    "# inputs: X_train_random, y_train_random, X_test, y_test\n",
    "\n",
    "rt, X_train_new, y_train_new = ADASYNOversampling(X_train=X_train, y_train=y_train)\n",
    "\n",
    "print(\"y train ratio: 1:\" + str(round(y_train_new.value_counts()[0] / y_train_new.value_counts()[1])))\n",
    "\n",
    "# create models\n",
    "clf_SVM = SVC()\n",
    "clf_KNN = KNeighborsClassifier(n_neighbors=3, n_jobs=-1)\n",
    "clf_LR = LogisticRegression(random_state=42, solver=\"saga\", max_iter=20000, n_jobs=-1)\n",
    "clf_DT = DecisionTreeClassifier()\n",
    "clf_RF = RandomForestClassifier(random_state=42, n_jobs=-1)\n",
    "clf_LightGBM = LGBMClassifier(objective=\"binary\", random_state=42, n_jobs=-1)\n",
    "clf_Adaboost = AdaBoostClassifier(n_estimators=100, random_state=42)\n",
    "clf_GBDT = GradientBoostingClassifier(n_estimators=100, learning_rate=1.0, random_state=42)\n",
    "\n",
    "clf_SVM.fit(X_train_new, y_train_new)\n",
    "clf_KNN.fit(X_train_new, y_train_new)\n",
    "clf_LR.fit(X_train_new, y_train_new)\n",
    "clf_DT.fit(X_train_new, y_train_new)\n",
    "clf_RF.fit(X_train_new, y_train_new)\n",
    "clf_LightGBM.fit(X_train_new, y_train_new)\n",
    "clf_Adaboost.fit(X_train_new, y_train_new)\n",
    "clf_GBDT.fit(X_train_new, y_train_new)\n",
    "\n",
    "y_pred_SVM = clf_SVM.predict(X_test)\n",
    "y_pred_KNN = clf_KNN.predict(X_test)\n",
    "y_pred_LR = clf_LR.predict(X_test)\n",
    "y_pred_DT = clf_DT.predict(X_test)\n",
    "y_pred_RF = clf_RF.predict(X_test)\n",
    "y_pred_LightGBM = clf_LightGBM.predict(X_test)\n",
    "y_pred_Adaboost = clf_Adaboost.predict(X_test)\n",
    "y_pred_GBDT = clf_GBDT.predict(X_test)"
   ]
  },
  {
   "cell_type": "code",
   "execution_count": 13,
   "id": "a15420da",
   "metadata": {},
   "outputs": [],
   "source": [
    "with open(f\"{os.path.dirname(os.getcwd())}/result/JS_Vuln_res.csv\", \"a\", newline=\"\") as f:\n",
    "    csv_writer = csv.writer(f)\n",
    "    \n",
    "    csv_writer.writerow([\"ADASYN\", rt, \"SVM\"] + evaluate_result(y_pred_SVM, y_test))\n",
    "    csv_writer.writerow([\"ADASYN\", rt, \"KNN\"] + evaluate_result(y_pred_KNN, y_test))\n",
    "    csv_writer.writerow([\"ADASYN\", rt, \"LR\"] + evaluate_result(y_pred_LR, y_test))\n",
    "    csv_writer.writerow([\"ADASYN\", rt, \"DT\"] + evaluate_result(y_pred_DT, y_test))\n",
    "    csv_writer.writerow([\"ADASYN\", rt, \"RF\"] + evaluate_result(y_pred_RF, y_test))\n",
    "    csv_writer.writerow([\"ADASYN\", rt, \"LightGBM\"] + evaluate_result(y_pred_LightGBM, y_test))\n",
    "    csv_writer.writerow([\"ADASYN\", rt, \"Adaboost\"] + evaluate_result(y_pred_Adaboost, y_test))\n",
    "    csv_writer.writerow([\"ADASYN\", rt, \"GBDT\"] + evaluate_result(y_pred_GBDT, y_test))"
   ]
  },
  {
   "cell_type": "markdown",
   "id": "b65ef4e5",
   "metadata": {},
   "source": [
    "### BorderlineSMOTE Oversampling"
   ]
  },
  {
   "cell_type": "code",
   "execution_count": 14,
   "id": "e71e6a89",
   "metadata": {},
   "outputs": [
    {
     "name": "stdout",
     "output_type": "stream",
     "text": [
      "y train ratio: 1:1\n"
     ]
    }
   ],
   "source": [
    "# BorderlineSMOTE oversampling run - BorderlineSMOTE oversampling technique\n",
    "# inputs: X_train_random, y_train_random, X_test, y_test\n",
    "\n",
    "rt, X_train_new, y_train_new = BorderlineSMOTEOversampling(X_train=X_train, y_train=y_train)\n",
    "\n",
    "print(\"y train ratio: 1:\" + str(round(y_train_new.value_counts()[0] / y_train_new.value_counts()[1])))\n",
    "\n",
    "# create models\n",
    "clf_SVM = SVC()\n",
    "clf_KNN = KNeighborsClassifier(n_neighbors=3, n_jobs=-1)\n",
    "clf_LR = LogisticRegression(random_state=42, solver=\"saga\", max_iter=20000, n_jobs=-1)\n",
    "clf_DT = DecisionTreeClassifier()\n",
    "clf_RF = RandomForestClassifier(random_state=42, n_jobs=-1)\n",
    "clf_LightGBM = LGBMClassifier(objective=\"binary\", random_state=42, n_jobs=-1)\n",
    "clf_Adaboost = AdaBoostClassifier(n_estimators=100, random_state=42)\n",
    "clf_GBDT = GradientBoostingClassifier(n_estimators=100, learning_rate=1.0, random_state=42)\n",
    "\n",
    "clf_SVM.fit(X_train_new, y_train_new)\n",
    "clf_KNN.fit(X_train_new, y_train_new)\n",
    "clf_LR.fit(X_train_new, y_train_new)\n",
    "clf_DT.fit(X_train_new, y_train_new)\n",
    "clf_RF.fit(X_train_new, y_train_new)\n",
    "clf_LightGBM.fit(X_train_new, y_train_new)\n",
    "clf_Adaboost.fit(X_train_new, y_train_new)\n",
    "clf_GBDT.fit(X_train_new, y_train_new)\n",
    "\n",
    "y_pred_SVM = clf_SVM.predict(X_test)\n",
    "y_pred_KNN = clf_KNN.predict(X_test)\n",
    "y_pred_LR = clf_LR.predict(X_test)\n",
    "y_pred_DT = clf_DT.predict(X_test)\n",
    "y_pred_RF = clf_RF.predict(X_test)\n",
    "y_pred_LightGBM = clf_LightGBM.predict(X_test)\n",
    "y_pred_Adaboost = clf_Adaboost.predict(X_test)\n",
    "y_pred_GBDT = clf_GBDT.predict(X_test)"
   ]
  },
  {
   "cell_type": "code",
   "execution_count": 15,
   "id": "3b959c52",
   "metadata": {},
   "outputs": [],
   "source": [
    "with open(f\"{os.path.dirname(os.getcwd())}/result/JS_Vuln_res.csv\", \"a\", newline=\"\") as f:\n",
    "    csv_writer = csv.writer(f)\n",
    "    \n",
    "    csv_writer.writerow([\"BorderlineSMOTE\", rt, \"SVM\"] + evaluate_result(y_pred_SVM, y_test))\n",
    "    csv_writer.writerow([\"BorderlineSMOTE\", rt, \"KNN\"] + evaluate_result(y_pred_KNN, y_test))\n",
    "    csv_writer.writerow([\"BorderlineSMOTE\", rt, \"LR\"] + evaluate_result(y_pred_LR, y_test))\n",
    "    csv_writer.writerow([\"BorderlineSMOTE\", rt, \"DT\"] + evaluate_result(y_pred_DT, y_test))\n",
    "    csv_writer.writerow([\"BorderlineSMOTE\", rt, \"RF\"] + evaluate_result(y_pred_RF, y_test))\n",
    "    csv_writer.writerow([\"BorderlineSMOTE\", rt, \"LightGBM\"] + evaluate_result(y_pred_LightGBM, y_test))\n",
    "    csv_writer.writerow([\"BorderlineSMOTE\", rt, \"Adaboost\"] + evaluate_result(y_pred_Adaboost, y_test))\n",
    "    csv_writer.writerow([\"BorderlineSMOTE\", rt, \"GBDT\"] + evaluate_result(y_pred_GBDT, y_test))"
   ]
  },
  {
   "cell_type": "markdown",
   "id": "717f9bd4",
   "metadata": {},
   "source": [
    "### SMOTE Oversampling"
   ]
  },
  {
   "cell_type": "code",
   "execution_count": 16,
   "id": "1c04dc46",
   "metadata": {},
   "outputs": [
    {
     "name": "stdout",
     "output_type": "stream",
     "text": [
      "y train ratio: 1:1\n"
     ]
    }
   ],
   "source": [
    "# SMOTE oversampling run - SMOTE oversampling technique\n",
    "# inputs: X_train_random, y_train_random, X_test, y_test\n",
    "\n",
    "rt, X_train_new, y_train_new = SMOTEOversampling(X_train=X_train, y_train=y_train)\n",
    "\n",
    "print(\"y train ratio: 1:\" + str(round(y_train_new.value_counts()[0] / y_train_new.value_counts()[1])))\n",
    "\n",
    "# create models\n",
    "clf_SVM = SVC()\n",
    "clf_KNN = KNeighborsClassifier(n_neighbors=3, n_jobs=-1)\n",
    "clf_LR = LogisticRegression(random_state=42, solver=\"saga\", max_iter=20000, n_jobs=-1)\n",
    "clf_DT = DecisionTreeClassifier()\n",
    "clf_RF = RandomForestClassifier(random_state=42, n_jobs=-1)\n",
    "clf_LightGBM = LGBMClassifier(objective=\"binary\", random_state=42, n_jobs=-1)\n",
    "clf_Adaboost = AdaBoostClassifier(n_estimators=100, random_state=42)\n",
    "clf_GBDT = GradientBoostingClassifier(n_estimators=100, learning_rate=1.0, random_state=42)\n",
    "\n",
    "clf_SVM.fit(X_train_new, y_train_new)\n",
    "clf_KNN.fit(X_train_new, y_train_new)\n",
    "clf_LR.fit(X_train_new, y_train_new)\n",
    "clf_DT.fit(X_train_new, y_train_new)\n",
    "clf_RF.fit(X_train_new, y_train_new)\n",
    "clf_LightGBM.fit(X_train_new, y_train_new)\n",
    "clf_Adaboost.fit(X_train_new, y_train_new)\n",
    "clf_GBDT.fit(X_train_new, y_train_new)\n",
    "\n",
    "y_pred_SVM = clf_SVM.predict(X_test)\n",
    "y_pred_KNN = clf_KNN.predict(X_test)\n",
    "y_pred_LR = clf_LR.predict(X_test)\n",
    "y_pred_DT = clf_DT.predict(X_test)\n",
    "y_pred_RF = clf_RF.predict(X_test)\n",
    "y_pred_LightGBM = clf_LightGBM.predict(X_test)\n",
    "y_pred_Adaboost = clf_Adaboost.predict(X_test)\n",
    "y_pred_GBDT = clf_GBDT.predict(X_test)"
   ]
  },
  {
   "cell_type": "code",
   "execution_count": 17,
   "id": "99f0e0d7",
   "metadata": {},
   "outputs": [],
   "source": [
    "with open(f\"{os.path.dirname(os.getcwd())}/result/JS_Vuln_res.csv\", \"a\", newline=\"\") as f:\n",
    "    csv_writer = csv.writer(f)\n",
    "    \n",
    "    csv_writer.writerow([\"SMOTE\", rt, \"SVM\"] + evaluate_result(y_pred_SVM, y_test))\n",
    "    csv_writer.writerow([\"SMOTE\", rt, \"KNN\"] + evaluate_result(y_pred_KNN, y_test))\n",
    "    csv_writer.writerow([\"SMOTE\", rt, \"LR\"] + evaluate_result(y_pred_LR, y_test))\n",
    "    csv_writer.writerow([\"SMOTE\", rt, \"DT\"] + evaluate_result(y_pred_DT, y_test))\n",
    "    csv_writer.writerow([\"SMOTE\", rt, \"RF\"] + evaluate_result(y_pred_RF, y_test))\n",
    "    csv_writer.writerow([\"SMOTE\", rt, \"LightGBM\"] + evaluate_result(y_pred_LightGBM, y_test))\n",
    "    csv_writer.writerow([\"SMOTE\", rt, \"Adaboost\"] + evaluate_result(y_pred_Adaboost, y_test))\n",
    "    csv_writer.writerow([\"SMOTE\", rt, \"GBDT\"] + evaluate_result(y_pred_GBDT, y_test))"
   ]
  },
  {
   "cell_type": "markdown",
   "id": "158ba8a5",
   "metadata": {},
   "source": [
    "### SVMSMOTE Oversampling"
   ]
  },
  {
   "cell_type": "code",
   "execution_count": 18,
   "id": "849eef98",
   "metadata": {},
   "outputs": [
    {
     "name": "stdout",
     "output_type": "stream",
     "text": [
      "y train ratio: 1:1\n"
     ]
    }
   ],
   "source": [
    "# SVMSMOTE oversampling run - SVMSMOTE oversampling technique\n",
    "# inputs: X_train_random, y_train_random, X_test, y_test\n",
    "\n",
    "rt, X_train_new, y_train_new = SVMSMOTEOversampling(X_train=X_train, y_train=y_train)\n",
    "\n",
    "print(\"y train ratio: 1:\" + str(round(y_train_new.value_counts()[0] / y_train_new.value_counts()[1])))\n",
    "\n",
    "# create models\n",
    "clf_SVM = SVC()\n",
    "clf_KNN = KNeighborsClassifier(n_neighbors=3, n_jobs=-1)\n",
    "clf_LR = LogisticRegression(random_state=42, solver=\"saga\", max_iter=20000, n_jobs=-1)\n",
    "clf_DT = DecisionTreeClassifier()\n",
    "clf_RF = RandomForestClassifier(random_state=42, n_jobs=-1)\n",
    "clf_LightGBM = LGBMClassifier(objective=\"binary\", random_state=42, n_jobs=-1)\n",
    "clf_Adaboost = AdaBoostClassifier(n_estimators=100, random_state=42)\n",
    "clf_GBDT = GradientBoostingClassifier(n_estimators=100, learning_rate=1.0, random_state=42)\n",
    "\n",
    "clf_SVM.fit(X_train_new, y_train_new)\n",
    "clf_KNN.fit(X_train_new, y_train_new)\n",
    "clf_LR.fit(X_train_new, y_train_new)\n",
    "clf_DT.fit(X_train_new, y_train_new)\n",
    "clf_RF.fit(X_train_new, y_train_new)\n",
    "clf_LightGBM.fit(X_train_new, y_train_new)\n",
    "clf_Adaboost.fit(X_train_new, y_train_new)\n",
    "clf_GBDT.fit(X_train_new, y_train_new)\n",
    "\n",
    "y_pred_SVM = clf_SVM.predict(X_test)\n",
    "y_pred_KNN = clf_KNN.predict(X_test)\n",
    "y_pred_LR = clf_LR.predict(X_test)\n",
    "y_pred_DT = clf_DT.predict(X_test)\n",
    "y_pred_RF = clf_RF.predict(X_test)\n",
    "y_pred_LightGBM = clf_LightGBM.predict(X_test)\n",
    "y_pred_Adaboost = clf_Adaboost.predict(X_test)\n",
    "y_pred_GBDT = clf_GBDT.predict(X_test)"
   ]
  },
  {
   "cell_type": "code",
   "execution_count": 19,
   "id": "480a4559",
   "metadata": {},
   "outputs": [],
   "source": [
    "with open(f\"{os.path.dirname(os.getcwd())}/result/JS_Vuln_res.csv\", \"a\", newline=\"\") as f:\n",
    "    csv_writer = csv.writer(f)\n",
    "    \n",
    "    csv_writer.writerow([\"SVMSMOTE\", rt, \"SVM\"] + evaluate_result(y_pred_SVM, y_test))\n",
    "    csv_writer.writerow([\"SVMSMOTE\", rt, \"KNN\"] + evaluate_result(y_pred_KNN, y_test))\n",
    "    csv_writer.writerow([\"SVMSMOTE\", rt, \"LR\"] + evaluate_result(y_pred_LR, y_test))\n",
    "    csv_writer.writerow([\"SVMSMOTE\", rt, \"DT\"] + evaluate_result(y_pred_DT, y_test))\n",
    "    csv_writer.writerow([\"SVMSMOTE\", rt, \"RF\"] + evaluate_result(y_pred_RF, y_test))\n",
    "    csv_writer.writerow([\"SVMSMOTE\", rt, \"LightGBM\"] + evaluate_result(y_pred_LightGBM, y_test))\n",
    "    csv_writer.writerow([\"SVMSMOTE\", rt, \"Adaboost\"] + evaluate_result(y_pred_Adaboost, y_test))\n",
    "    csv_writer.writerow([\"SVMSMOTE\", rt, \"GBDT\"] + evaluate_result(y_pred_GBDT, y_test))"
   ]
  },
  {
   "cell_type": "markdown",
   "id": "ec967024",
   "metadata": {},
   "source": [
    "### SMOTUNED Oversampling"
   ]
  },
  {
   "cell_type": "code",
   "execution_count": null,
   "id": "ff7b2bfe",
   "metadata": {},
   "outputs": [],
   "source": [
    "# SMOTUNED oversampling run - SMOTUNED oversampling technique\n",
    "# inputs: X_train_random, y_train_random, X_test, y_test\n",
    "\n",
    "rt, X_train_new, y_train_new = SMOTUNEDOversampling(X_train=X_train, )\n",
    "\n",
    "print(\"y train ratio: 1:\" + str(round(y_train_new.value_counts()[0] / y_train_new.value_counts()[1])))\n",
    "\n",
    "# create models\n",
    "clf_SVM = SVC()\n",
    "clf_KNN = KNeighborsClassifier(n_neighbors=3, n_jobs=-1)\n",
    "clf_LR = LogisticRegression(random_state=42, solver=\"saga\", max_iter=20000, n_jobs=-1)\n",
    "clf_DT = DecisionTreeClassifier()\n",
    "clf_RF = RandomForestClassifier(random_state=42, n_jobs=-1)\n",
    "clf_LightGBM = LGBMClassifier(objective=\"binary\", random_state=42, n_jobs=-1)\n",
    "clf_Adaboost = AdaBoostClassifier(n_estimators=100, random_state=42)\n",
    "clf_GBDT = GradientBoostingClassifier(n_estimators=100, learning_rate=1.0, random_state=42)\n",
    "\n",
    "clf_SVM.fit(X_train_new, y_train_new)\n",
    "clf_KNN.fit(X_train_new, y_train_new)\n",
    "clf_LR.fit(X_train_new, y_train_new)\n",
    "clf_DT.fit(X_train_new, y_train_new)\n",
    "clf_RF.fit(X_train_new, y_train_new)\n",
    "clf_LightGBM.fit(X_train_new, y_train_new)\n",
    "clf_Adaboost.fit(X_train_new, y_train_new)\n",
    "clf_GBDT.fit(X_train_new, y_train_new)\n",
    "\n",
    "y_pred_SVM = clf_SVM.predict(X_test)\n",
    "y_pred_KNN = clf_KNN.predict(X_test)\n",
    "y_pred_LR = clf_LR.predict(X_test)\n",
    "y_pred_DT = clf_DT.predict(X_test)\n",
    "y_pred_RF = clf_RF.predict(X_test)\n",
    "y_pred_LightGBM = clf_LightGBM.predict(X_test)\n",
    "y_pred_Adaboost = clf_Adaboost.predict(X_test)\n",
    "y_pred_GBDT = clf_GBDT.predict(X_test)"
   ]
  }
 ],
 "metadata": {
  "kernelspec": {
   "display_name": "Python 3 (ipykernel)",
   "language": "python",
   "name": "python3"
  },
  "language_info": {
   "codemirror_mode": {
    "name": "ipython",
    "version": 3
   },
   "file_extension": ".py",
   "mimetype": "text/x-python",
   "name": "python",
   "nbconvert_exporter": "python",
   "pygments_lexer": "ipython3",
   "version": "3.8.15"
  }
 },
 "nbformat": 4,
 "nbformat_minor": 5
}
